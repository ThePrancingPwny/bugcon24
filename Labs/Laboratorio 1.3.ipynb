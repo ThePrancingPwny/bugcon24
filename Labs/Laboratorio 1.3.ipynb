{
 "cells": [
  {
   "cell_type": "markdown",
   "metadata": {},
   "source": [
    "# Laboratorio 1.3 - Tradecraft | Jupyter Notebooks\n",
    "\n",
    "* **Author:** Prancing Pwny\n",
    "* **Notes**: Download this notebook and use it to connect to your own Splunk instance and test some basic searches\n",
    "* **References:**\n",
    "    * https://dev.splunk.com/enterprise/docs/devtools/python/sdk-python/howtousesplunkpython"
   ]
  },
  {
   "cell_type": "markdown",
   "metadata": {},
   "source": [
    "## Using Splunk SDK\n",
    "\n",
    "Pre-requisites:\n",
    "\n",
    "* pip install splunk-sdk\n",
    "* pip install pandas\n",
    "* pip install pandasql"
   ]
  },
  {
   "cell_type": "markdown",
   "metadata": {},
   "source": [
    "### Import Library"
   ]
  },
  {
   "cell_type": "code",
   "execution_count": null,
   "metadata": {},
   "outputs": [],
   "source": [
    "import pandas as pd\n",
    "import splunklib.client as client\n",
    "import splunklib.results as results"
   ]
  },
  {
   "cell_type": "markdown",
   "metadata": {},
   "source": [
    "### Establish connection from Juypter to Splunk"
   ]
  },
  {
   "cell_type": "code",
   "execution_count": null,
   "metadata": {},
   "outputs": [],
   "source": [
    "# Define variables for log in using username and password\n",
    "HOST = \"54.219.237.67\"\n",
    "PORT = 8089\n",
    "USERNAME = \"admin\"\n",
    "PASSWORD = \"r3I6PqPCihM3eHwRofU\"\n",
    "\n",
    "# Create a Service instance and log in \n",
    "service = client.connect(\n",
    "    host=HOST,\n",
    "    port=PORT,\n",
    "    username=USERNAME,\n",
    "    password=PASSWORD)"
   ]
  },
  {
   "cell_type": "markdown",
   "metadata": {},
   "source": [
    "### Specific Fields Search"
   ]
  },
  {
   "cell_type": "code",
   "execution_count": null,
   "metadata": {},
   "outputs": [],
   "source": [
    "import splunklib.results as results\n",
    "\n",
    "# Run a one-shot search and display the results using the results reader\n",
    "# A oneshot search is a blocking search that is scheduled to run immediately. Instead of returning a search job, this mode returns the results of the search once completed. \n",
    "# Set the parameters for the search:\n",
    "# - Search everything in a 2-hour time range \n",
    "# - Display the first 10 results, if you want more than 10 results modify the count variable\n",
    "kwargs_oneshot = {\"earliest_time\": \"2024-11-21T00:00:00.000-06:00\",\n",
    "                  \"latest_time\": \"2024-11-21T02:00:00.000-06:00\",\n",
    "                  \"output_mode\": 'json'}\n",
    "\n",
    "\n",
    "\n",
    "# Modify the query to your needs\n",
    "searchquery_oneshot = \"search index=win EventCode=4688 | fields * | fields - _*\" # <--- This One!\n",
    "oneshotsearch_results = service.jobs.oneshot(searchquery_oneshot, count=100, **kwargs_oneshot)\n",
    "\n",
    "\n",
    "# Get the results and display them using the JSONResultsReader\n",
    "reader = results.JSONResultsReader(oneshotsearch_results)\n",
    "results = []\n",
    "for result in reader:\n",
    "    results.append(result)\n",
    "df = pd.DataFrame (results)\n",
    "df\n",
    "# Comment the previous (#df), modify the query and test some of these \"filters\" \n",
    "#for col in df.columns:\n",
    "#    print(col)"
   ]
  },
  {
   "cell_type": "markdown",
   "metadata": {},
   "source": [
    "### Basic exploratory sysmon search"
   ]
  },
  {
   "cell_type": "code",
   "execution_count": null,
   "metadata": {
    "scrolled": true
   },
   "outputs": [],
   "source": [
    "import splunklib.results as results\n",
    "\n",
    "# Run a one-shot search and display the results using the results reader\n",
    "# A oneshot search is a blocking search that is scheduled to run immediately. Instead of returning a search job, this mode returns the results of the search once completed. \n",
    "# Set the parameters for the search:\n",
    "# - Search everything in a 2-hour time range \n",
    "# - Display the first 10 results, if you want more than 10 results modify the count variable\n",
    "kwargs_oneshot = {\"earliest_time\": \"2024-11-21T00:00:00.000-06:00\",\n",
    "                  \"latest_time\": \"2024-11-21T02:00:00.000-06:00\",\n",
    "                  \"output_mode\": 'json'}\n",
    "\n",
    "\n",
    "\n",
    "# Modify the query to your needs\n",
    "searchquery_oneshot = \"search index=win EventChannel=Microsoft-Windows-Sysmon/Operational EventCode=1| fields * | fields - _*\" # <--- This One!\n",
    "oneshotsearch_results = service.jobs.oneshot(searchquery_oneshot, count=0, **kwargs_oneshot)\n",
    "\n",
    "\n",
    "# Get the results and display them using the JSONResultsReader\n",
    "reader = results.JSONResultsReader(oneshotsearch_results)\n",
    "results = []\n",
    "for result in reader:\n",
    "    results.append(result)\n",
    "df = pd.DataFrame (results)\n",
    "df\n",
    "\n",
    "# Comment the previous (#df), modify the query and test some of these \"filters\" \n",
    "#print(df['EventCode'].value_counts()) # This is used to count the values present in the entire dataframe and also count values in a particular column.\n",
    "#df.groupby(['Computer', 'user']).count() #  Count of all occurrences in a particular column \n",
    "     "
   ]
  },
  {
   "cell_type": "markdown",
   "metadata": {},
   "source": [
    "### Give the extra mile!\n",
    "\n",
    "Write an ADS (Alert and Detection Strategy) using a Jupyter Notebook and create a powerful \"Playbook\" for your Threat Hunting and Incident Respone technical library!\n"
   ]
  }
 ],
 "metadata": {
  "kernelspec": {
   "display_name": "Python 3 (ipykernel)",
   "language": "python",
   "name": "python3"
  },
  "language_info": {
   "codemirror_mode": {
    "name": "ipython",
    "version": 3
   },
   "file_extension": ".py",
   "mimetype": "text/x-python",
   "name": "python",
   "nbconvert_exporter": "python",
   "pygments_lexer": "ipython3",
   "version": "3.12.7"
  }
 },
 "nbformat": 4,
 "nbformat_minor": 4
}
